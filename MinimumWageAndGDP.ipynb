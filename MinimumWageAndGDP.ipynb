{
 "cells": [
  {
   "cell_type": "markdown",
   "metadata": {},
   "source": [
    "# Alternative Hypothesis: Minimum Wage does not increase in proportion to an increase in GDP"
   ]
  },
  {
   "cell_type": "markdown",
   "metadata": {},
   "source": [
    "## Importing libraries"
   ]
  },
  {
   "cell_type": "code",
   "execution_count": 1,
   "metadata": {},
   "outputs": [],
   "source": [
    "import pandas as pd\n",
    "import matplotlib.pyplot as plot"
   ]
  },
  {
   "cell_type": "markdown",
   "metadata": {},
   "source": [
    "### Function to return data for individual country"
   ]
  },
  {
   "cell_type": "code",
   "execution_count": 2,
   "metadata": {},
   "outputs": [],
   "source": [
    "# Simple function to return data for corresponding country in a Database\n",
    "def get_country_data(data_frame, country: str):\n",
    "    return data_frame[data_frame['Country Code'] == country]"
   ]
  },
  {
   "cell_type": "markdown",
   "metadata": {},
   "source": [
    "## Importing first data set - GDP from OECD"
   ]
  },
  {
   "cell_type": "markdown",
   "metadata": {},
   "source": [
    "Original Data source: https://data.oecd.org/gdp/gross-domestic-product-gdp.htm"
   ]
  },
  {
   "cell_type": "code",
   "execution_count": 3,
   "metadata": {},
   "outputs": [
    {
     "data": {
      "text/html": [
       "<div>\n",
       "<style scoped>\n",
       "    .dataframe tbody tr th:only-of-type {\n",
       "        vertical-align: middle;\n",
       "    }\n",
       "\n",
       "    .dataframe tbody tr th {\n",
       "        vertical-align: top;\n",
       "    }\n",
       "\n",
       "    .dataframe thead th {\n",
       "        text-align: right;\n",
       "    }\n",
       "</style>\n",
       "<table border=\"1\" class=\"dataframe\">\n",
       "  <thead>\n",
       "    <tr style=\"text-align: right;\">\n",
       "      <th></th>\n",
       "      <th>LOCATION</th>\n",
       "      <th>INDICATOR</th>\n",
       "      <th>SUBJECT</th>\n",
       "      <th>MEASURE</th>\n",
       "      <th>FREQUENCY</th>\n",
       "      <th>TIME</th>\n",
       "      <th>Value</th>\n",
       "      <th>Flag Codes</th>\n",
       "    </tr>\n",
       "  </thead>\n",
       "  <tbody>\n",
       "    <tr>\n",
       "      <th>0</th>\n",
       "      <td>AUS</td>\n",
       "      <td>GDP</td>\n",
       "      <td>TOT</td>\n",
       "      <td>USD_CAP</td>\n",
       "      <td>A</td>\n",
       "      <td>2000</td>\n",
       "      <td>28252.629885</td>\n",
       "      <td>NaN</td>\n",
       "    </tr>\n",
       "    <tr>\n",
       "      <th>1</th>\n",
       "      <td>AUS</td>\n",
       "      <td>GDP</td>\n",
       "      <td>TOT</td>\n",
       "      <td>USD_CAP</td>\n",
       "      <td>A</td>\n",
       "      <td>2001</td>\n",
       "      <td>29493.214856</td>\n",
       "      <td>NaN</td>\n",
       "    </tr>\n",
       "    <tr>\n",
       "      <th>2</th>\n",
       "      <td>AUS</td>\n",
       "      <td>GDP</td>\n",
       "      <td>TOT</td>\n",
       "      <td>USD_CAP</td>\n",
       "      <td>A</td>\n",
       "      <td>2002</td>\n",
       "      <td>30740.962903</td>\n",
       "      <td>NaN</td>\n",
       "    </tr>\n",
       "    <tr>\n",
       "      <th>3</th>\n",
       "      <td>AUS</td>\n",
       "      <td>GDP</td>\n",
       "      <td>TOT</td>\n",
       "      <td>USD_CAP</td>\n",
       "      <td>A</td>\n",
       "      <td>2003</td>\n",
       "      <td>32248.255835</td>\n",
       "      <td>NaN</td>\n",
       "    </tr>\n",
       "    <tr>\n",
       "      <th>4</th>\n",
       "      <td>AUS</td>\n",
       "      <td>GDP</td>\n",
       "      <td>TOT</td>\n",
       "      <td>USD_CAP</td>\n",
       "      <td>A</td>\n",
       "      <td>2004</td>\n",
       "      <td>33865.906508</td>\n",
       "      <td>NaN</td>\n",
       "    </tr>\n",
       "  </tbody>\n",
       "</table>\n",
       "</div>"
      ],
      "text/plain": [
       "  LOCATION INDICATOR SUBJECT  MEASURE FREQUENCY  TIME         Value Flag Codes\n",
       "0      AUS       GDP     TOT  USD_CAP         A  2000  28252.629885        NaN\n",
       "1      AUS       GDP     TOT  USD_CAP         A  2001  29493.214856        NaN\n",
       "2      AUS       GDP     TOT  USD_CAP         A  2002  30740.962903        NaN\n",
       "3      AUS       GDP     TOT  USD_CAP         A  2003  32248.255835        NaN\n",
       "4      AUS       GDP     TOT  USD_CAP         A  2004  33865.906508        NaN"
      ]
     },
     "execution_count": 3,
     "metadata": {},
     "output_type": "execute_result"
    }
   ],
   "source": [
    "gdp_df = pd.read_csv(\"datasets/GDP_Selected_2000_2020_OECD.csv\")\n",
    "gdp_df.head()"
   ]
  },
  {
   "cell_type": "markdown",
   "metadata": {},
   "source": [
    "As can be seen above a number of extra rows are avaliable. However, frequency, measure, subject, indicator and flag codes all remained constant throughout due to the selection criteria used when downloading the data from the OECD website. Therefore, these columsn could be safely dropped. Lastly, all values were divided by one thousand and columns were more appropriately named."
   ]
  },
  {
   "cell_type": "code",
   "execution_count": 4,
   "metadata": {},
   "outputs": [
    {
     "data": {
      "text/html": [
       "<div>\n",
       "<style scoped>\n",
       "    .dataframe tbody tr th:only-of-type {\n",
       "        vertical-align: middle;\n",
       "    }\n",
       "\n",
       "    .dataframe tbody tr th {\n",
       "        vertical-align: top;\n",
       "    }\n",
       "\n",
       "    .dataframe thead th {\n",
       "        text-align: right;\n",
       "    }\n",
       "</style>\n",
       "<table border=\"1\" class=\"dataframe\">\n",
       "  <thead>\n",
       "    <tr style=\"text-align: right;\">\n",
       "      <th></th>\n",
       "      <th>Country Code</th>\n",
       "      <th>Year</th>\n",
       "      <th>GDP</th>\n",
       "    </tr>\n",
       "  </thead>\n",
       "  <tbody>\n",
       "    <tr>\n",
       "      <th>0</th>\n",
       "      <td>AUS</td>\n",
       "      <td>2000</td>\n",
       "      <td>28.252630</td>\n",
       "    </tr>\n",
       "    <tr>\n",
       "      <th>1</th>\n",
       "      <td>AUS</td>\n",
       "      <td>2001</td>\n",
       "      <td>29.493215</td>\n",
       "    </tr>\n",
       "    <tr>\n",
       "      <th>2</th>\n",
       "      <td>AUS</td>\n",
       "      <td>2002</td>\n",
       "      <td>30.740963</td>\n",
       "    </tr>\n",
       "    <tr>\n",
       "      <th>3</th>\n",
       "      <td>AUS</td>\n",
       "      <td>2003</td>\n",
       "      <td>32.248256</td>\n",
       "    </tr>\n",
       "    <tr>\n",
       "      <th>4</th>\n",
       "      <td>AUS</td>\n",
       "      <td>2004</td>\n",
       "      <td>33.865907</td>\n",
       "    </tr>\n",
       "  </tbody>\n",
       "</table>\n",
       "</div>"
      ],
      "text/plain": [
       "  Country Code  Year        GDP\n",
       "0          AUS  2000  28.252630\n",
       "1          AUS  2001  29.493215\n",
       "2          AUS  2002  30.740963\n",
       "3          AUS  2003  32.248256\n",
       "4          AUS  2004  33.865907"
      ]
     },
     "execution_count": 4,
     "metadata": {},
     "output_type": "execute_result"
    }
   ],
   "source": [
    "gdp_df.drop(columns = [\"INDICATOR\", \"MEASURE\", \"FREQUENCY\", \"SUBJECT\", \"Flag Codes\"], inplace = True)\n",
    "gdp_df[\"Value\"] = gdp_df[\"Value\"].div(1000)\n",
    "gdp_df.columns = [\"Country Code\", \"Year\", \"GDP\"]\n",
    "gdp_df.head()"
   ]
  },
  {
   "cell_type": "markdown",
   "metadata": {},
   "source": [
    "## Importing second data set - Minimum Wage Data from OECD"
   ]
  },
  {
   "cell_type": "markdown",
   "metadata": {},
   "source": [
    "Original Data Source: https://stats.oecd.org/Index.aspx?DataSetCode=RMW"
   ]
  },
  {
   "cell_type": "code",
   "execution_count": 5,
   "metadata": {},
   "outputs": [
    {
     "data": {
      "text/html": [
       "<div>\n",
       "<style scoped>\n",
       "    .dataframe tbody tr th:only-of-type {\n",
       "        vertical-align: middle;\n",
       "    }\n",
       "\n",
       "    .dataframe tbody tr th {\n",
       "        vertical-align: top;\n",
       "    }\n",
       "\n",
       "    .dataframe thead th {\n",
       "        text-align: right;\n",
       "    }\n",
       "</style>\n",
       "<table border=\"1\" class=\"dataframe\">\n",
       "  <thead>\n",
       "    <tr style=\"text-align: right;\">\n",
       "      <th></th>\n",
       "      <th>COUNTRY</th>\n",
       "      <th>Country</th>\n",
       "      <th>SERIES</th>\n",
       "      <th>Series</th>\n",
       "      <th>PERIOD</th>\n",
       "      <th>Pay period</th>\n",
       "      <th>TIME</th>\n",
       "      <th>Time</th>\n",
       "      <th>Unit Code</th>\n",
       "      <th>Unit</th>\n",
       "      <th>PowerCode Code</th>\n",
       "      <th>PowerCode</th>\n",
       "      <th>Reference Period Code</th>\n",
       "      <th>Reference Period</th>\n",
       "      <th>Value</th>\n",
       "      <th>Flag Codes</th>\n",
       "      <th>Flags</th>\n",
       "    </tr>\n",
       "  </thead>\n",
       "  <tbody>\n",
       "    <tr>\n",
       "      <th>0</th>\n",
       "      <td>IRL</td>\n",
       "      <td>Ireland</td>\n",
       "      <td>PPP</td>\n",
       "      <td>In 2019 constant prices at 2019 USD PPPs</td>\n",
       "      <td>A</td>\n",
       "      <td>Annual</td>\n",
       "      <td>2001</td>\n",
       "      <td>2001</td>\n",
       "      <td>USD</td>\n",
       "      <td>US Dollar</td>\n",
       "      <td>0</td>\n",
       "      <td>Units</td>\n",
       "      <td>NaN</td>\n",
       "      <td>NaN</td>\n",
       "      <td>16009.336352</td>\n",
       "      <td>NaN</td>\n",
       "      <td>NaN</td>\n",
       "    </tr>\n",
       "    <tr>\n",
       "      <th>1</th>\n",
       "      <td>IRL</td>\n",
       "      <td>Ireland</td>\n",
       "      <td>PPP</td>\n",
       "      <td>In 2019 constant prices at 2019 USD PPPs</td>\n",
       "      <td>A</td>\n",
       "      <td>Annual</td>\n",
       "      <td>2002</td>\n",
       "      <td>2002</td>\n",
       "      <td>USD</td>\n",
       "      <td>US Dollar</td>\n",
       "      <td>0</td>\n",
       "      <td>Units</td>\n",
       "      <td>NaN</td>\n",
       "      <td>NaN</td>\n",
       "      <td>16070.941849</td>\n",
       "      <td>NaN</td>\n",
       "      <td>NaN</td>\n",
       "    </tr>\n",
       "    <tr>\n",
       "      <th>2</th>\n",
       "      <td>IRL</td>\n",
       "      <td>Ireland</td>\n",
       "      <td>PPP</td>\n",
       "      <td>In 2019 constant prices at 2019 USD PPPs</td>\n",
       "      <td>A</td>\n",
       "      <td>Annual</td>\n",
       "      <td>2003</td>\n",
       "      <td>2003</td>\n",
       "      <td>USD</td>\n",
       "      <td>US Dollar</td>\n",
       "      <td>0</td>\n",
       "      <td>Units</td>\n",
       "      <td>NaN</td>\n",
       "      <td>NaN</td>\n",
       "      <td>16245.232152</td>\n",
       "      <td>NaN</td>\n",
       "      <td>NaN</td>\n",
       "    </tr>\n",
       "    <tr>\n",
       "      <th>3</th>\n",
       "      <td>IRL</td>\n",
       "      <td>Ireland</td>\n",
       "      <td>PPP</td>\n",
       "      <td>In 2019 constant prices at 2019 USD PPPs</td>\n",
       "      <td>A</td>\n",
       "      <td>Annual</td>\n",
       "      <td>2004</td>\n",
       "      <td>2004</td>\n",
       "      <td>USD</td>\n",
       "      <td>US Dollar</td>\n",
       "      <td>0</td>\n",
       "      <td>Units</td>\n",
       "      <td>NaN</td>\n",
       "      <td>NaN</td>\n",
       "      <td>17397.533608</td>\n",
       "      <td>NaN</td>\n",
       "      <td>NaN</td>\n",
       "    </tr>\n",
       "    <tr>\n",
       "      <th>4</th>\n",
       "      <td>IRL</td>\n",
       "      <td>Ireland</td>\n",
       "      <td>PPP</td>\n",
       "      <td>In 2019 constant prices at 2019 USD PPPs</td>\n",
       "      <td>A</td>\n",
       "      <td>Annual</td>\n",
       "      <td>2005</td>\n",
       "      <td>2005</td>\n",
       "      <td>USD</td>\n",
       "      <td>US Dollar</td>\n",
       "      <td>0</td>\n",
       "      <td>Units</td>\n",
       "      <td>NaN</td>\n",
       "      <td>NaN</td>\n",
       "      <td>18157.908636</td>\n",
       "      <td>NaN</td>\n",
       "      <td>NaN</td>\n",
       "    </tr>\n",
       "  </tbody>\n",
       "</table>\n",
       "</div>"
      ],
      "text/plain": [
       "  COUNTRY  Country SERIES                                    Series PERIOD  \\\n",
       "0     IRL  Ireland    PPP  In 2019 constant prices at 2019 USD PPPs      A   \n",
       "1     IRL  Ireland    PPP  In 2019 constant prices at 2019 USD PPPs      A   \n",
       "2     IRL  Ireland    PPP  In 2019 constant prices at 2019 USD PPPs      A   \n",
       "3     IRL  Ireland    PPP  In 2019 constant prices at 2019 USD PPPs      A   \n",
       "4     IRL  Ireland    PPP  In 2019 constant prices at 2019 USD PPPs      A   \n",
       "\n",
       "  Pay period  TIME  Time Unit Code       Unit  PowerCode Code PowerCode  \\\n",
       "0     Annual  2001  2001       USD  US Dollar               0     Units   \n",
       "1     Annual  2002  2002       USD  US Dollar               0     Units   \n",
       "2     Annual  2003  2003       USD  US Dollar               0     Units   \n",
       "3     Annual  2004  2004       USD  US Dollar               0     Units   \n",
       "4     Annual  2005  2005       USD  US Dollar               0     Units   \n",
       "\n",
       "   Reference Period Code  Reference Period         Value  Flag Codes  Flags  \n",
       "0                    NaN               NaN  16009.336352         NaN    NaN  \n",
       "1                    NaN               NaN  16070.941849         NaN    NaN  \n",
       "2                    NaN               NaN  16245.232152         NaN    NaN  \n",
       "3                    NaN               NaN  17397.533608         NaN    NaN  \n",
       "4                    NaN               NaN  18157.908636         NaN    NaN  "
      ]
     },
     "execution_count": 5,
     "metadata": {},
     "output_type": "execute_result"
    }
   ],
   "source": [
    "MinWage_df = pd.read_csv(\"datasets/RealMinimumWages.csv\")\n",
    "MinWage_df.head()"
   ]
  },
  {
   "cell_type": "markdown",
   "metadata": {},
   "source": [
    "### Cleaning the Data\n",
    "This analysis focused on comparing yearly data. As such the hourly minimum wage data was dropped. The GDP data used 2019 Purchasing Power Parity (PPP) as a metric. To make the comparison feasible, it was decided to use minimum wage values that had PPP included rather than US exchange rates, for this reason the 'EXR'  series was removed. Excess columns were dropped. The minimum wages were divided by one thousand for consistency. Finally, the columns were renamed appropriately. "
   ]
  },
  {
   "cell_type": "code",
   "execution_count": 6,
   "metadata": {},
   "outputs": [
    {
     "data": {
      "text/html": [
       "<div>\n",
       "<style scoped>\n",
       "    .dataframe tbody tr th:only-of-type {\n",
       "        vertical-align: middle;\n",
       "    }\n",
       "\n",
       "    .dataframe tbody tr th {\n",
       "        vertical-align: top;\n",
       "    }\n",
       "\n",
       "    .dataframe thead th {\n",
       "        text-align: right;\n",
       "    }\n",
       "</style>\n",
       "<table border=\"1\" class=\"dataframe\">\n",
       "  <thead>\n",
       "    <tr style=\"text-align: right;\">\n",
       "      <th></th>\n",
       "      <th>Country Code</th>\n",
       "      <th>Country</th>\n",
       "      <th>Year</th>\n",
       "      <th>Real Min. Wage</th>\n",
       "    </tr>\n",
       "  </thead>\n",
       "  <tbody>\n",
       "    <tr>\n",
       "      <th>0</th>\n",
       "      <td>IRL</td>\n",
       "      <td>Ireland</td>\n",
       "      <td>2001</td>\n",
       "      <td>16.009336</td>\n",
       "    </tr>\n",
       "    <tr>\n",
       "      <th>1</th>\n",
       "      <td>IRL</td>\n",
       "      <td>Ireland</td>\n",
       "      <td>2002</td>\n",
       "      <td>16.070942</td>\n",
       "    </tr>\n",
       "    <tr>\n",
       "      <th>2</th>\n",
       "      <td>IRL</td>\n",
       "      <td>Ireland</td>\n",
       "      <td>2003</td>\n",
       "      <td>16.245232</td>\n",
       "    </tr>\n",
       "    <tr>\n",
       "      <th>3</th>\n",
       "      <td>IRL</td>\n",
       "      <td>Ireland</td>\n",
       "      <td>2004</td>\n",
       "      <td>17.397534</td>\n",
       "    </tr>\n",
       "    <tr>\n",
       "      <th>4</th>\n",
       "      <td>IRL</td>\n",
       "      <td>Ireland</td>\n",
       "      <td>2005</td>\n",
       "      <td>18.157909</td>\n",
       "    </tr>\n",
       "  </tbody>\n",
       "</table>\n",
       "</div>"
      ],
      "text/plain": [
       "  Country Code  Country  Year  Real Min. Wage\n",
       "0          IRL  Ireland  2001       16.009336\n",
       "1          IRL  Ireland  2002       16.070942\n",
       "2          IRL  Ireland  2003       16.245232\n",
       "3          IRL  Ireland  2004       17.397534\n",
       "4          IRL  Ireland  2005       18.157909"
      ]
     },
     "execution_count": 6,
     "metadata": {},
     "output_type": "execute_result"
    }
   ],
   "source": [
    "# Dropping the hourly wages data\n",
    "MinWage_df.drop(MinWage_df.loc[MinWage_df['Pay period']=='Hourly'].index, inplace=True)\n",
    "# Dropping the US Exchange rate values\n",
    "MinWage_df.drop(MinWage_df.loc[MinWage_df['SERIES']=='EXR'].index, inplace=True)\n",
    "# Dropping excess columns\n",
    "MinWage_df.drop(columns=[\"SERIES\", \"Series\", \"PERIOD\", \"TIME\", \"Unit Code\", \"Pay period\"], inplace = True)\n",
    "MinWage_df.drop(columns=[\"Unit\", \"PowerCode Code\", \"Reference Period\", \"Flag Codes\", \"Flags\"], inplace=True)\n",
    "MinWage_df.drop(columns=[\"Reference Period Code\", \"PowerCode\"], inplace=True)\n",
    "# Divide Min Wage by 1000\n",
    "MinWage_df[\"Value\"] = MinWage_df[\"Value\"].div(1000)\n",
    "MinWage_df.columns = [\"Country Code\", \"Country\", \"Year\", \"Real Min. Wage\"]\n",
    "MinWage_df.head()"
   ]
  },
  {
   "cell_type": "code",
   "execution_count": 7,
   "metadata": {},
   "outputs": [
    {
     "data": {
      "text/plain": [
       "array(['Ireland', 'Luxembourg', 'Portugal', 'United States', 'Estonia',\n",
       "       'Canada', 'France', 'Mexico', 'Poland', 'Israel', 'Belgium',\n",
       "       'Hungary', 'Japan', 'Australia', 'New Zealand', 'United Kingdom',\n",
       "       'Greece', 'Slovenia', 'Korea', 'Chile', 'Turkey',\n",
       "       'Slovak Republic', 'Netherlands', 'Spain', 'Czech Republic',\n",
       "       'Germany', 'Brazil', 'Russian Federation', 'Lithuania', 'Latvia',\n",
       "       'Colombia', 'Costa Rica'], dtype=object)"
      ]
     },
     "execution_count": 7,
     "metadata": {},
     "output_type": "execute_result"
    }
   ],
   "source": [
    "# Create dictionaries of country codes and \n",
    "oecd_countryCodes = MinWage_df['Country Code'].unique() # Find Unique categories in data\n",
    "oecd_countries = MinWage_df['Country'].unique() # Find Unique categories in data\n",
    "oecd_countries"
   ]
  },
  {
   "cell_type": "code",
   "execution_count": 8,
   "metadata": {},
   "outputs": [
    {
     "data": {
      "text/html": [
       "<div>\n",
       "<style scoped>\n",
       "    .dataframe tbody tr th:only-of-type {\n",
       "        vertical-align: middle;\n",
       "    }\n",
       "\n",
       "    .dataframe tbody tr th {\n",
       "        vertical-align: top;\n",
       "    }\n",
       "\n",
       "    .dataframe thead th {\n",
       "        text-align: right;\n",
       "    }\n",
       "</style>\n",
       "<table border=\"1\" class=\"dataframe\">\n",
       "  <thead>\n",
       "    <tr style=\"text-align: right;\">\n",
       "      <th></th>\n",
       "      <th>Country Code</th>\n",
       "      <th>Country</th>\n",
       "      <th>Year</th>\n",
       "      <th>Real Min. Wage</th>\n",
       "      <th>GDP</th>\n",
       "    </tr>\n",
       "  </thead>\n",
       "  <tbody>\n",
       "    <tr>\n",
       "      <th>497</th>\n",
       "      <td>RUS</td>\n",
       "      <td>Russian Federation</td>\n",
       "      <td>2001</td>\n",
       "      <td>0.538840</td>\n",
       "      <td>7.898523</td>\n",
       "    </tr>\n",
       "    <tr>\n",
       "      <th>498</th>\n",
       "      <td>RUS</td>\n",
       "      <td>Russian Federation</td>\n",
       "      <td>2002</td>\n",
       "      <td>0.744584</td>\n",
       "      <td>8.623997</td>\n",
       "    </tr>\n",
       "    <tr>\n",
       "      <th>499</th>\n",
       "      <td>RUS</td>\n",
       "      <td>Russian Federation</td>\n",
       "      <td>2003</td>\n",
       "      <td>0.798377</td>\n",
       "      <td>9.940233</td>\n",
       "    </tr>\n",
       "    <tr>\n",
       "      <th>500</th>\n",
       "      <td>RUS</td>\n",
       "      <td>Russian Federation</td>\n",
       "      <td>2004</td>\n",
       "      <td>0.886130</td>\n",
       "      <td>10.984497</td>\n",
       "    </tr>\n",
       "    <tr>\n",
       "      <th>501</th>\n",
       "      <td>RUS</td>\n",
       "      <td>Russian Federation</td>\n",
       "      <td>2005</td>\n",
       "      <td>0.969864</td>\n",
       "      <td>12.698299</td>\n",
       "    </tr>\n",
       "    <tr>\n",
       "      <th>502</th>\n",
       "      <td>RUS</td>\n",
       "      <td>Russian Federation</td>\n",
       "      <td>2006</td>\n",
       "      <td>1.314586</td>\n",
       "      <td>16.017124</td>\n",
       "    </tr>\n",
       "    <tr>\n",
       "      <th>503</th>\n",
       "      <td>RUS</td>\n",
       "      <td>Russian Federation</td>\n",
       "      <td>2007</td>\n",
       "      <td>2.521557</td>\n",
       "      <td>17.881759</td>\n",
       "    </tr>\n",
       "    <tr>\n",
       "      <th>504</th>\n",
       "      <td>RUS</td>\n",
       "      <td>Russian Federation</td>\n",
       "      <td>2008</td>\n",
       "      <td>2.209745</td>\n",
       "      <td>21.657589</td>\n",
       "    </tr>\n",
       "    <tr>\n",
       "      <th>505</th>\n",
       "      <td>RUS</td>\n",
       "      <td>Russian Federation</td>\n",
       "      <td>2009</td>\n",
       "      <td>3.726094</td>\n",
       "      <td>20.826598</td>\n",
       "    </tr>\n",
       "    <tr>\n",
       "      <th>506</th>\n",
       "      <td>RUS</td>\n",
       "      <td>Russian Federation</td>\n",
       "      <td>2010</td>\n",
       "      <td>3.487239</td>\n",
       "      <td>22.008299</td>\n",
       "    </tr>\n",
       "    <tr>\n",
       "      <th>507</th>\n",
       "      <td>RUS</td>\n",
       "      <td>Russian Federation</td>\n",
       "      <td>2011</td>\n",
       "      <td>3.337550</td>\n",
       "      <td>22.798674</td>\n",
       "    </tr>\n",
       "    <tr>\n",
       "      <th>508</th>\n",
       "      <td>RUS</td>\n",
       "      <td>Russian Federation</td>\n",
       "      <td>2012</td>\n",
       "      <td>3.259112</td>\n",
       "      <td>24.303491</td>\n",
       "    </tr>\n",
       "    <tr>\n",
       "      <th>509</th>\n",
       "      <td>RUS</td>\n",
       "      <td>Russian Federation</td>\n",
       "      <td>2013</td>\n",
       "      <td>3.446211</td>\n",
       "      <td>26.073874</td>\n",
       "    </tr>\n",
       "    <tr>\n",
       "      <th>510</th>\n",
       "      <td>RUS</td>\n",
       "      <td>Russian Federation</td>\n",
       "      <td>2014</td>\n",
       "      <td>3.410468</td>\n",
       "      <td>25.761662</td>\n",
       "    </tr>\n",
       "    <tr>\n",
       "      <th>511</th>\n",
       "      <td>RUS</td>\n",
       "      <td>Russian Federation</td>\n",
       "      <td>2015</td>\n",
       "      <td>3.169819</td>\n",
       "      <td>24.085313</td>\n",
       "    </tr>\n",
       "    <tr>\n",
       "      <th>512</th>\n",
       "      <td>RUS</td>\n",
       "      <td>Russian Federation</td>\n",
       "      <td>2016</td>\n",
       "      <td>3.080439</td>\n",
       "      <td>24.128082</td>\n",
       "    </tr>\n",
       "    <tr>\n",
       "      <th>513</th>\n",
       "      <td>RUS</td>\n",
       "      <td>Russian Federation</td>\n",
       "      <td>2017</td>\n",
       "      <td>3.663475</td>\n",
       "      <td>25.926431</td>\n",
       "    </tr>\n",
       "    <tr>\n",
       "      <th>514</th>\n",
       "      <td>RUS</td>\n",
       "      <td>Russian Federation</td>\n",
       "      <td>2018</td>\n",
       "      <td>4.936495</td>\n",
       "      <td>28.893862</td>\n",
       "    </tr>\n",
       "    <tr>\n",
       "      <th>515</th>\n",
       "      <td>RUS</td>\n",
       "      <td>Russian Federation</td>\n",
       "      <td>2019</td>\n",
       "      <td>5.026018</td>\n",
       "      <td>29.403809</td>\n",
       "    </tr>\n",
       "  </tbody>\n",
       "</table>\n",
       "</div>"
      ],
      "text/plain": [
       "    Country Code             Country  Year  Real Min. Wage        GDP\n",
       "497          RUS  Russian Federation  2001        0.538840   7.898523\n",
       "498          RUS  Russian Federation  2002        0.744584   8.623997\n",
       "499          RUS  Russian Federation  2003        0.798377   9.940233\n",
       "500          RUS  Russian Federation  2004        0.886130  10.984497\n",
       "501          RUS  Russian Federation  2005        0.969864  12.698299\n",
       "502          RUS  Russian Federation  2006        1.314586  16.017124\n",
       "503          RUS  Russian Federation  2007        2.521557  17.881759\n",
       "504          RUS  Russian Federation  2008        2.209745  21.657589\n",
       "505          RUS  Russian Federation  2009        3.726094  20.826598\n",
       "506          RUS  Russian Federation  2010        3.487239  22.008299\n",
       "507          RUS  Russian Federation  2011        3.337550  22.798674\n",
       "508          RUS  Russian Federation  2012        3.259112  24.303491\n",
       "509          RUS  Russian Federation  2013        3.446211  26.073874\n",
       "510          RUS  Russian Federation  2014        3.410468  25.761662\n",
       "511          RUS  Russian Federation  2015        3.169819  24.085313\n",
       "512          RUS  Russian Federation  2016        3.080439  24.128082\n",
       "513          RUS  Russian Federation  2017        3.663475  25.926431\n",
       "514          RUS  Russian Federation  2018        4.936495  28.893862\n",
       "515          RUS  Russian Federation  2019        5.026018  29.403809"
      ]
     },
     "execution_count": 8,
     "metadata": {},
     "output_type": "execute_result"
    }
   ],
   "source": [
    "combined_df = pd.merge(MinWage_df, gdp_df, how=\"inner\", on = [\"Country Code\", \"Year\"])\n",
    "get_country_data(combined_df, \"RUS\")"
   ]
  },
  {
   "cell_type": "markdown",
   "metadata": {},
   "source": [
    "## Trial Plot"
   ]
  },
  {
   "cell_type": "code",
   "execution_count": 9,
   "metadata": {},
   "outputs": [
    {
     "data": {
      "text/plain": [
       "<matplotlib.legend.Legend at 0x196a2a58130>"
      ]
     },
     "execution_count": 9,
     "metadata": {},
     "output_type": "execute_result"
    },
    {
     "data": {
      "image/png": "[encoded data removed]",
      "text/plain": [
       "<Figure size 432x288 with 1 Axes>"
      ]
     },
     "metadata": {
      "needs_background": "light"
     },
     "output_type": "display_data"
    }
   ],
   "source": [
    "plot.plot(combined_df['Year'], combined_df['GDP'], combined_df['Year'], combined_df['Real Min. Wage'])\n",
    "plot.legend(['GDP', 'Wage'])"
   ]
  },
  {
   "cell_type": "code",
   "execution_count": 10,
   "metadata": {},
   "outputs": [
    {
     "data": {
      "image/png": "[encoded data removed]",
      "text/plain": [
       "<Figure size 432x288 with 1 Axes>"
      ]
     },
     "metadata": {
      "needs_background": "light"
     },
     "output_type": "display_data"
    }
   ],
   "source": [
    "# Trial Plot of USA\n",
    "def plot_country(country: str):\n",
    "    plot_df = get_country_data(combined_df, country)\n",
    "    plot.plot(plot_df['Year'], plot_df['GDP'], plot_df['Year'], plot_df['Real Min. Wage'])\n",
    "    plot.legend(['GDP', 'Wage'])\n",
    "plot_country('GBR')"
   ]
  },
  {
   "cell_type": "markdown",
   "metadata": {},
   "source": [
    "# Mean and Growth Rate"
   ]
  },
  {
   "cell_type": "markdown",
   "metadata": {},
   "source": [
    "The resulting trial plot was far too cluttered. This revealed that there would be too many individual plots. Different metrics will therefore be compared. The average minimum wage for all OECD countries for each year will be plooted alongside the Average gdp for all OECD countries for each year. Secondly, the growth rates of gdp and minimum wage for each country, over the period 2001 - 2019, will be compared. "
   ]
  },
  {
   "cell_type": "markdown",
   "metadata": {},
   "source": [
    "## Calculating the Mean GDP and Mean Real Min. Wage Per year"
   ]
  },
  {
   "cell_type": "code",
   "execution_count": 11,
   "metadata": {},
   "outputs": [
    {
     "data": {
      "text/plain": [
       "Year              2001.000000\n",
       "Real Min. Wage      10.609397\n",
       "GDP                 20.168350\n",
       "dtype: float64"
      ]
     },
     "execution_count": 11,
     "metadata": {},
     "output_type": "execute_result"
    }
   ],
   "source": [
    "combined_df[combined_df['Year'] == 2001].mean()"
   ]
  },
  {
   "cell_type": "code",
   "execution_count": 12,
   "metadata": {},
   "outputs": [
    {
     "data": {
      "text/html": [
       "<div>\n",
       "<style scoped>\n",
       "    .dataframe tbody tr th:only-of-type {\n",
       "        vertical-align: middle;\n",
       "    }\n",
       "\n",
       "    .dataframe tbody tr th {\n",
       "        vertical-align: top;\n",
       "    }\n",
       "\n",
       "    .dataframe thead th {\n",
       "        text-align: right;\n",
       "    }\n",
       "</style>\n",
       "<table border=\"1\" class=\"dataframe\">\n",
       "  <thead>\n",
       "    <tr style=\"text-align: right;\">\n",
       "      <th></th>\n",
       "      <th>Year</th>\n",
       "      <th>Mean GDP</th>\n",
       "      <th>Mean Min. Wage</th>\n",
       "    </tr>\n",
       "  </thead>\n",
       "  <tbody>\n",
       "    <tr>\n",
       "      <th>0</th>\n",
       "      <td>2001</td>\n",
       "      <td>20.168350</td>\n",
       "      <td>10.609397</td>\n",
       "    </tr>\n",
       "    <tr>\n",
       "      <th>1</th>\n",
       "      <td>2002</td>\n",
       "      <td>21.168173</td>\n",
       "      <td>10.812154</td>\n",
       "    </tr>\n",
       "    <tr>\n",
       "      <th>2</th>\n",
       "      <td>2003</td>\n",
       "      <td>21.894542</td>\n",
       "      <td>10.994967</td>\n",
       "    </tr>\n",
       "    <tr>\n",
       "      <th>3</th>\n",
       "      <td>2004</td>\n",
       "      <td>23.229010</td>\n",
       "      <td>11.263630</td>\n",
       "    </tr>\n",
       "    <tr>\n",
       "      <th>4</th>\n",
       "      <td>2005</td>\n",
       "      <td>24.501410</td>\n",
       "      <td>11.480728</td>\n",
       "    </tr>\n",
       "  </tbody>\n",
       "</table>\n",
       "</div>"
      ],
      "text/plain": [
       "   Year   Mean GDP  Mean Min. Wage\n",
       "0  2001  20.168350       10.609397\n",
       "1  2002  21.168173       10.812154\n",
       "2  2003  21.894542       10.994967\n",
       "3  2004  23.229010       11.263630\n",
       "4  2005  24.501410       11.480728"
      ]
     },
     "execution_count": 12,
     "metadata": {},
     "output_type": "execute_result"
    }
   ],
   "source": [
    "years = []\n",
    "MeanMinWage =[]\n",
    "MeanGDP = []\n",
    "for year in range(2001, 2019):\n",
    "    # Find mean for the year\n",
    "    temp = combined_df[combined_df['Year'] == year].mean(skipna=True) # Missing values ignored\n",
    "    years.append(year)\n",
    "    MeanGDP.append(temp['GDP'])\n",
    "    MeanMinWage.append(temp['Real Min. Wage'])\n",
    "# Create dict to create data frame\n",
    "Mean_Data = {'Year' : years , 'Mean GDP' : MeanGDP , 'Mean Min. Wage' : MeanMinWage}\n",
    "# Create Pandas Data frame\n",
    "mean_df = pd.DataFrame(Mean_Data)\n",
    "mean_df.head()"
   ]
  },
  {
   "cell_type": "markdown",
   "metadata": {},
   "source": [
    "## Trial Plot of Means"
   ]
  },
  {
   "cell_type": "code",
   "execution_count": 13,
   "metadata": {},
   "outputs": [
    {
     "data": {
      "image/png": "[encoded data removed]",
      "text/plain": [
       "<Figure size 1728x432 with 1 Axes>"
      ]
     },
     "metadata": {
      "needs_background": "light"
     },
     "output_type": "display_data"
    }
   ],
   "source": [
    "fig = plot.figure(figsize=(24, 6))\n",
    "\n",
    "ax = fig.add_subplot(121)\n",
    "ax.plot(mean_df['Year'], mean_df['Mean GDP'], mean_df['Year'], mean_df['Mean Min. Wage'])\n",
    "ax.legend(['Mean GDP', 'Mean Min. Wage'])\n",
    "ax.set_ylim(0)\n",
    "ax.xaxis.set_ticks(ticks=(mean_df['Year']))\n",
    "plot.xlabel(\"Year\", fontsize=14)\n",
    "plot.ylabel(\"Current US Dollars [Thousands]\", fontsize=14)\n",
    "ax.set_title(\"Comparing Mean GDP and Mean Minimum Wage over Time\")\n",
    "plot.show()"
   ]
  },
  {
   "cell_type": "markdown",
   "metadata": {},
   "source": [
    "## Comparing the Growth in Average GDP to the Growth in Average Real Minimum Wage"
   ]
  },
  {
   "cell_type": "code",
   "execution_count": 14,
   "metadata": {},
   "outputs": [
    {
     "name": "stdout",
     "output_type": "stream",
     "text": [
      "Percentage Growth in GDP: \t\t\t 106.53\n",
      "Percentage Growth in Real Min. Wage: \t\t 39.71\n",
      "GDP grew at a rate 2.68 times the real minimum wage growth rate on average.\n"
     ]
    }
   ],
   "source": [
    "temp2018 = mean_df[mean_df['Year'] == 2018]\n",
    "temp2001 = mean_df[mean_df['Year'] == 2001]\n",
    "gdp_growth = (temp2018['Mean GDP'].item() - temp2001['Mean GDP'].item()) / temp2001['Mean GDP'].item()\n",
    "MinWage_growth = (temp2018['Mean Min. Wage'].item() - temp2001['Mean Min. Wage'].item()) / temp2001['Mean Min. Wage'].item()\n",
    "print(\"Percentage Growth in GDP: \\t\\t\\t {:.2f}\".format(gdp_growth * 100))\n",
    "print(\"Percentage Growth in Real Min. Wage: \\t\\t {:.2f}\".format(MinWage_growth * 100))\n",
    "print(\"GDP grew at a rate {:.2f} times the real minimum wage growth rate on average.\" .format(gdp_growth/MinWage_growth) )"
   ]
  },
  {
   "cell_type": "markdown",
   "metadata": {},
   "source": [
    "As can be seen above, while GDP increased by 106.53%, Real minimum wage only increased by 39.71%."
   ]
  },
  {
   "cell_type": "markdown",
   "metadata": {},
   "source": [
    "## Comparing Mean Real Minimum Wage as a percentage of GDP per Capita in 2001 and 2018"
   ]
  },
  {
   "cell_type": "code",
   "execution_count": 15,
   "metadata": {},
   "outputs": [
    {
     "name": "stdout",
     "output_type": "stream",
     "text": [
      "Average real minimum wage was 52.60% in 2001\n",
      "Average real minimum wage was 42.89% in 2010\n",
      "Average real minimum wage was 35.58% in 2018\n"
     ]
    }
   ],
   "source": [
    "temp2010 = mean_df[mean_df['Year'] == 2010]\n",
    "percentage2001 = (temp2001['Mean Min. Wage'].item() / temp2001['Mean GDP'].item() ) * 100\n",
    "percentage2010 = (temp2010['Mean Min. Wage'].item() / temp2010['Mean GDP'].item() ) * 100\n",
    "percentage2018 = (temp2018['Mean Min. Wage'].item() / temp2018['Mean GDP'].item() ) * 100\n",
    "print(\"Average real minimum wage was {:.2f}% in 2001\" .format(percentage2001))\n",
    "print(\"Average real minimum wage was {:.2f}% in 2010\" .format(percentage2010))\n",
    "print(\"Average real minimum wage was {:.2f}% in 2018\" .format(percentage2018))"
   ]
  },
  {
   "cell_type": "markdown",
   "metadata": {},
   "source": [
    "In 2001, Real Minimum wage was approximately 52.6% of the GDP per capita, by 2010 this had fallen to 42.89% and by 2018 only 35.58%. Real minimum wage is becoming less and less of a proportion of the GDP per capita, what is sold as equal among everyone."
   ]
  },
  {
   "cell_type": "markdown",
   "metadata": {},
   "source": [
    "## Finding Growth Rate 2001 - 2018"
   ]
  },
  {
   "cell_type": "markdown",
   "metadata": {},
   "source": [
    "Growth rate is calculated simply for each country as: (GDP(2018) - GDP(2001)) / (GDP(2001)"
   ]
  },
  {
   "cell_type": "code",
   "execution_count": 19,
   "metadata": {},
   "outputs": [
    {
     "data": {
      "text/html": [
       "<div>\n",
       "<style scoped>\n",
       "    .dataframe tbody tr th:only-of-type {\n",
       "        vertical-align: middle;\n",
       "    }\n",
       "\n",
       "    .dataframe tbody tr th {\n",
       "        vertical-align: top;\n",
       "    }\n",
       "\n",
       "    .dataframe thead th {\n",
       "        text-align: right;\n",
       "    }\n",
       "</style>\n",
       "<table border=\"1\" class=\"dataframe\">\n",
       "  <thead>\n",
       "    <tr style=\"text-align: right;\">\n",
       "      <th></th>\n",
       "      <th>Country Code</th>\n",
       "      <th>Country</th>\n",
       "      <th>GDP Growth %</th>\n",
       "      <th>Real Min. Wage Growth %</th>\n",
       "    </tr>\n",
       "  </thead>\n",
       "  <tbody>\n",
       "    <tr>\n",
       "      <th>0</th>\n",
       "      <td>IRL</td>\n",
       "      <td>Ireland</td>\n",
       "      <td>160.973255</td>\n",
       "      <td>28.586901</td>\n",
       "    </tr>\n",
       "    <tr>\n",
       "      <th>1</th>\n",
       "      <td>LUX</td>\n",
       "      <td>Luxembourg</td>\n",
       "      <td>108.548865</td>\n",
       "      <td>14.417049</td>\n",
       "    </tr>\n",
       "    <tr>\n",
       "      <th>2</th>\n",
       "      <td>PRT</td>\n",
       "      <td>Portugal</td>\n",
       "      <td>78.831553</td>\n",
       "      <td>29.025113</td>\n",
       "    </tr>\n",
       "    <tr>\n",
       "      <th>3</th>\n",
       "      <td>USA</td>\n",
       "      <td>United States</td>\n",
       "      <td>69.927758</td>\n",
       "      <td>-0.732049</td>\n",
       "    </tr>\n",
       "    <tr>\n",
       "      <th>4</th>\n",
       "      <td>EST</td>\n",
       "      <td>Estonia</td>\n",
       "      <td>253.720066</td>\n",
       "      <td>187.706964</td>\n",
       "    </tr>\n",
       "  </tbody>\n",
       "</table>\n",
       "</div>"
      ],
      "text/plain": [
       "  Country Code        Country  GDP Growth %  Real Min. Wage Growth %\n",
       "0          IRL        Ireland    160.973255                28.586901\n",
       "1          LUX     Luxembourg    108.548865                14.417049\n",
       "2          PRT       Portugal     78.831553                29.025113\n",
       "3          USA  United States     69.927758                -0.732049\n",
       "4          EST        Estonia    253.720066               187.706964"
      ]
     },
     "execution_count": 19,
     "metadata": {},
     "output_type": "execute_result"
    }
   ],
   "source": [
    "# Create empty arrays to append values to\n",
    "countries = []\n",
    "gdp_growth = []\n",
    "min_wage_growth = []\n",
    "for country in oecd_countryCodes:\n",
    "    # Isolate by country\n",
    "    temp = combined_df[combined_df['Country Code'] == country]\n",
    "    countries.append(temp['Country'])\n",
    "    # isolate data for 2001\n",
    "    temp2001 = temp[temp['Year'] == 2001]\n",
    "    # isolate data for 2019\n",
    "    temp2018 = temp[temp['Year'] == 2018]  \n",
    "    # Find growth rate of GDP - If value is missing append 0.00 instead\n",
    "    try:\n",
    "        gdp_calc = (temp2018['GDP'].item() - temp2001['GDP'].item()) / temp2001['GDP'].item()\n",
    "        gdp_growth.append(gdp_calc * 100) # Mulitply by 100%\n",
    "    except ValueError:\n",
    "        gdp_growth.append(0.00)\n",
    "    # Find growth of Real Min. Wage - If value is missing append 0.00 instead\n",
    "    try:\n",
    "        min_wage_calc = ((temp2018['Real Min. Wage'].item()) - (temp2001['Real Min. Wage'].item())) / (temp2001['Real Min. Wage'].item())\n",
    "        min_wage_growth.append(min_wage_calc * 100) # Multiply by 100%\n",
    "    except ValueError:\n",
    "        min_wage_growth.append(0.00)\n",
    "# Create dict. to turn into DataFrame\n",
    "data = {'Country Code' : oecd_countryCodes , 'Country' : oecd_countries , 'GDP Growth %' : gdp_growth , 'Real Min. Wage Growth %' : min_wage_growth}\n",
    "# Creating data frame\n",
    "growth_df = pd.DataFrame(data)\n",
    "growth_df.drop(labels = [25], inplace = True) # Drop Germany - Only data availiable is 2015 - 2019\n",
    "growth_df.head()"
   ]
  },
  {
   "cell_type": "code",
   "execution_count": 20,
   "metadata": {},
   "outputs": [
    {
     "data": {
      "text/plain": [
       "Text(0, 0.5, '% Growth')"
      ]
     },
     "execution_count": 20,
     "metadata": {},
     "output_type": "execute_result"
    },
    {
     "data": {
      "image/png": "[encoded data removed]",
      "text/plain": [
       "<Figure size 864x432 with 1 Axes>"
      ]
     },
     "metadata": {
      "needs_background": "light"
     },
     "output_type": "display_data"
    }
   ],
   "source": [
    "# Drop Russia for graph - anomlay with min mum wage growth of 800%\n",
    "growth_df.drop(labels = [27], inplace = True) \n",
    "# sort from highest to lowest in terms of GDP\n",
    "growth_df.sort_values(by='GDP Growth %', inplace=True, ascending=False)\n",
    "plot = growth_df.plot.bar(x = 'Country', rot=0, figsize = (12,6))\n",
    "plot.tick_params(axis='x', labelrotation = 90)\n",
    "plot.set_title('Comparing GDP Growth % and Real Min. Wage Growth % by Country 2001 - 2018')\n",
    "plot.set_xlabel('Country', fontsize=14)\n",
    "plot.set_ylabel('% Growth', fontsize=14)"
   ]
  },
  {
   "cell_type": "code",
   "execution_count": 18,
   "metadata": {},
   "outputs": [
    {
     "name": "stdout",
     "output_type": "stream",
     "text": [
      "Correlation results between GDP Value and Cost of Living Index:\n",
      "Pearson's Correlation Coefficient:\t 0.736\n",
      "Spearman's Rank Correlation:\t\t 0.632\n"
     ]
    }
   ],
   "source": [
    "# Pearson's Correlation Coefficient and Spearman's Rank Correlation\n",
    "pearson = growth_df['GDP Growth %'].corr(growth_df['Real Min. Wage Growth %'])\n",
    "spearman = growth_df['GDP Growth %'].corr(growth_df['Real Min. Wage Growth %'], method = 'spearman')\n",
    "\n",
    "print('Correlation results between GDP Value and Cost of Living Index:')\n",
    "print(\"Pearson's Correlation Coefficient:\\t {:.3f}\" .format(pearson))\n",
    "print(\"Spearman's Rank Correlation:\\t\\t {:.3f}\" .format(spearman))"
   ]
  }
 ],
 "metadata": {
  "kernelspec": {
   "display_name": "Python 3",
   "language": "python",
   "name": "python3"
  },
  "language_info": {
   "codemirror_mode": {
    "name": "ipython",
    "version": 3
   },
   "file_extension": ".py",
   "mimetype": "text/x-python",
   "name": "python",
   "nbconvert_exporter": "python",
   "pygments_lexer": "ipython3",
   "version": "3.8.5"
  }
 },
 "nbformat": 4,
 "nbformat_minor": 4
}
