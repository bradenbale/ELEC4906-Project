{
 "cells": [
  {
   "cell_type": "markdown",
   "metadata": {},
   "source": [
    "# ALT HYPOTHESIS: Per capita income has not increaed in proportion to GDP per capita"
   ]
  },
  {
   "cell_type": "markdown",
   "metadata": {},
   "source": [
    "## Importing libraries"
   ]
  },
  {
   "cell_type": "code",
   "execution_count": 108,
   "metadata": {},
   "outputs": [],
   "source": [
    "import pandas as pd\n",
    "import matplotlib.pyplot as plot"
   ]
  },
  {
   "cell_type": "markdown",
   "metadata": {},
   "source": [
    "## Importing first data set - GDP for OECD Countries"
   ]
  },
  {
   "cell_type": "code",
   "execution_count": 109,
   "metadata": {},
   "outputs": [
    {
     "data": {
      "text/html": [
       "<div>\n",
       "<style scoped>\n",
       "    .dataframe tbody tr th:only-of-type {\n",
       "        vertical-align: middle;\n",
       "    }\n",
       "\n",
       "    .dataframe tbody tr th {\n",
       "        vertical-align: top;\n",
       "    }\n",
       "\n",
       "    .dataframe thead th {\n",
       "        text-align: right;\n",
       "    }\n",
       "</style>\n",
       "<table border=\"1\" class=\"dataframe\">\n",
       "  <thead>\n",
       "    <tr style=\"text-align: right;\">\n",
       "      <th></th>\n",
       "      <th>Location</th>\n",
       "      <th>Year</th>\n",
       "      <th>GDP</th>\n",
       "    </tr>\n",
       "  </thead>\n",
       "  <tbody>\n",
       "    <tr>\n",
       "      <th>0</th>\n",
       "      <td>AUS</td>\n",
       "      <td>2000</td>\n",
       "      <td>28.252630</td>\n",
       "    </tr>\n",
       "    <tr>\n",
       "      <th>1</th>\n",
       "      <td>AUS</td>\n",
       "      <td>2001</td>\n",
       "      <td>29.493215</td>\n",
       "    </tr>\n",
       "    <tr>\n",
       "      <th>2</th>\n",
       "      <td>AUS</td>\n",
       "      <td>2002</td>\n",
       "      <td>30.740963</td>\n",
       "    </tr>\n",
       "    <tr>\n",
       "      <th>3</th>\n",
       "      <td>AUS</td>\n",
       "      <td>2003</td>\n",
       "      <td>32.248256</td>\n",
       "    </tr>\n",
       "    <tr>\n",
       "      <th>4</th>\n",
       "      <td>AUS</td>\n",
       "      <td>2004</td>\n",
       "      <td>33.865907</td>\n",
       "    </tr>\n",
       "  </tbody>\n",
       "</table>\n",
       "</div>"
      ],
      "text/plain": [
       "  Location  Year        GDP\n",
       "0      AUS  2000  28.252630\n",
       "1      AUS  2001  29.493215\n",
       "2      AUS  2002  30.740963\n",
       "3      AUS  2003  32.248256\n",
       "4      AUS  2004  33.865907"
      ]
     },
     "execution_count": 109,
     "metadata": {},
     "output_type": "execute_result"
    }
   ],
   "source": [
    "# Source: OECD.stat - GDP \n",
    "# Avaliable: https://data.oecd.org/gdp/gross-domestic-product-gdp.htm\n",
    "gdp_df = pd.read_csv(\"datasets/GDP_Selected_2000_2020_OECD.csv\", usecols=['LOCATION', 'TIME', 'Value'])\n",
    "gdp_df.Value = gdp_df.Value.div(1000)\n",
    "gdp_df.columns = ['Location', 'Year', 'GDP']\n",
    "gdp_df.head()"
   ]
  },
  {
   "cell_type": "markdown",
   "metadata": {},
   "source": [
    "Countries are sorted by rows.\n",
    "Need to isolate countries. \n",
    "First create list of all possible countries. "
   ]
  },
  {
   "cell_type": "code",
   "execution_count": 111,
   "metadata": {},
   "outputs": [
    {
     "data": {
      "text/plain": [
       "array(['AUS', 'AUT', 'BEL', 'CAN', 'CZE', 'DNK', 'FIN', 'FRA', 'DEU',\n",
       "       'GRC', 'HUN', 'ISL', 'IRL', 'ITA', 'JPN', 'KOR', 'LUX', 'MEX',\n",
       "       'NLD', 'NZL', 'NOR', 'POL', 'PRT', 'SVK', 'ESP', 'SWE', 'CHE',\n",
       "       'TUR', 'GBR', 'USA', 'CHL', 'CHN', 'COL', 'EST', 'IND', 'IDN',\n",
       "       'ISR', 'RUS', 'SVN', 'ZAF', 'EU28', 'OECD', 'OECDE', 'LVA', 'BRA',\n",
       "       'LTU', 'SAU', 'EA19', 'ARG', 'CRI', 'BGR', 'HRV', 'CYP', 'MLT',\n",
       "       'PER', 'ROU', 'MKD', 'ZMB', 'HKG', 'MDG', 'MAR', 'SGP',\n",
       "       'EU27_2020'], dtype=object)"
      ]
     },
     "execution_count": 111,
     "metadata": {},
     "output_type": "execute_result"
    }
   ],
   "source": [
    "# Array contains list of all avaliable countries\n",
    "countries_list = gdp_df['Location'].unique()    # Find unique categories within Data\n",
    "countries_list"
   ]
  },
  {
   "cell_type": "code",
   "execution_count": 169,
   "metadata": {},
   "outputs": [
    {
     "data": {
      "text/html": [
       "<div>\n",
       "<style scoped>\n",
       "    .dataframe tbody tr th:only-of-type {\n",
       "        vertical-align: middle;\n",
       "    }\n",
       "\n",
       "    .dataframe tbody tr th {\n",
       "        vertical-align: top;\n",
       "    }\n",
       "\n",
       "    .dataframe thead th {\n",
       "        text-align: right;\n",
       "    }\n",
       "</style>\n",
       "<table border=\"1\" class=\"dataframe\">\n",
       "  <thead>\n",
       "    <tr style=\"text-align: right;\">\n",
       "      <th></th>\n",
       "      <th>Location</th>\n",
       "      <th>Year</th>\n",
       "      <th>GDP</th>\n",
       "    </tr>\n",
       "  </thead>\n",
       "  <tbody>\n",
       "    <tr>\n",
       "      <th>517</th>\n",
       "      <td>SWE</td>\n",
       "      <td>2000</td>\n",
       "      <td>29.631192</td>\n",
       "    </tr>\n",
       "    <tr>\n",
       "      <th>518</th>\n",
       "      <td>SWE</td>\n",
       "      <td>2001</td>\n",
       "      <td>29.940410</td>\n",
       "    </tr>\n",
       "    <tr>\n",
       "      <th>519</th>\n",
       "      <td>SWE</td>\n",
       "      <td>2002</td>\n",
       "      <td>30.926361</td>\n",
       "    </tr>\n",
       "    <tr>\n",
       "      <th>520</th>\n",
       "      <td>SWE</td>\n",
       "      <td>2003</td>\n",
       "      <td>31.782178</td>\n",
       "    </tr>\n",
       "    <tr>\n",
       "      <th>521</th>\n",
       "      <td>SWE</td>\n",
       "      <td>2004</td>\n",
       "      <td>33.830672</td>\n",
       "    </tr>\n",
       "  </tbody>\n",
       "</table>\n",
       "</div>"
      ],
      "text/plain": [
       "    Location  Year        GDP\n",
       "517      SWE  2000  29.631192\n",
       "518      SWE  2001  29.940410\n",
       "519      SWE  2002  30.926361\n",
       "520      SWE  2003  31.782178\n",
       "521      SWE  2004  33.830672"
      ]
     },
     "execution_count": 169,
     "metadata": {},
     "output_type": "execute_result"
    }
   ],
   "source": [
    "# Creating a dictionary containing Country and their associated data by year\n",
    "# This makes plotting multiple graphs with a function easier\n",
    "gdp_country_dict = {}\n",
    "for country in countries_list:\n",
    "    gdp_country_dict[\"{0}_data\".format(country)] = gdp_df[gdp_df['Location'] == country]\n",
    "# As an example, to Swedens GDP information\n",
    "gdp_country_dict['SWE_data'].head()    # Column can be accessed as country_dictionary['SWE_data'].TIME"
   ]
  },
  {
   "cell_type": "code",
   "execution_count": 170,
   "metadata": {},
   "outputs": [
    {
     "data": {
      "text/plain": [
       "<AxesSubplot:xlabel='Year', ylabel='GDP Per Capita - Thousands'>"
      ]
     },
     "execution_count": 170,
     "metadata": {},
     "output_type": "execute_result"
    },
    {
     "data": {
      "image/png": "[encoded data removed]",
      "text/plain": [
       "<Figure size 432x288 with 1 Axes>"
      ]
     },
     "metadata": {
      "needs_background": "light"
     },
     "output_type": "display_data"
    }
   ],
   "source": [
    "# Trial Plot\n",
    "\n",
    "gdp_country_dict['SWE_data'].plot(x='Year', y='GDP', xlabel='Year', ylabel='GDP Per Capita - Thousands')"
   ]
  },
  {
   "cell_type": "markdown",
   "metadata": {},
   "source": [
    "## Importing second dataset"
   ]
  },
  {
   "cell_type": "code",
   "execution_count": 181,
   "metadata": {},
   "outputs": [
    {
     "data": {
      "text/html": [
       "<div>\n",
       "<style scoped>\n",
       "    .dataframe tbody tr th:only-of-type {\n",
       "        vertical-align: middle;\n",
       "    }\n",
       "\n",
       "    .dataframe tbody tr th {\n",
       "        vertical-align: top;\n",
       "    }\n",
       "\n",
       "    .dataframe thead th {\n",
       "        text-align: right;\n",
       "    }\n",
       "</style>\n",
       "<table border=\"1\" class=\"dataframe\">\n",
       "  <thead>\n",
       "    <tr style=\"text-align: right;\">\n",
       "      <th></th>\n",
       "      <th>Location</th>\n",
       "      <th>Year</th>\n",
       "      <th>Average_Wage</th>\n",
       "    </tr>\n",
       "  </thead>\n",
       "  <tbody>\n",
       "    <tr>\n",
       "      <th>10</th>\n",
       "      <td>AUS</td>\n",
       "      <td>2000</td>\n",
       "      <td>46.156005</td>\n",
       "    </tr>\n",
       "    <tr>\n",
       "      <th>11</th>\n",
       "      <td>AUS</td>\n",
       "      <td>2001</td>\n",
       "      <td>46.658380</td>\n",
       "    </tr>\n",
       "    <tr>\n",
       "      <th>12</th>\n",
       "      <td>AUS</td>\n",
       "      <td>2002</td>\n",
       "      <td>46.979506</td>\n",
       "    </tr>\n",
       "    <tr>\n",
       "      <th>13</th>\n",
       "      <td>AUS</td>\n",
       "      <td>2003</td>\n",
       "      <td>47.529089</td>\n",
       "    </tr>\n",
       "    <tr>\n",
       "      <th>14</th>\n",
       "      <td>AUS</td>\n",
       "      <td>2004</td>\n",
       "      <td>49.007977</td>\n",
       "    </tr>\n",
       "  </tbody>\n",
       "</table>\n",
       "</div>"
      ],
      "text/plain": [
       "   Location  Year  Average_Wage\n",
       "10      AUS  2000     46.156005\n",
       "11      AUS  2001     46.658380\n",
       "12      AUS  2002     46.979506\n",
       "13      AUS  2003     47.529089\n",
       "14      AUS  2004     49.007977"
      ]
     },
     "execution_count": 181,
     "metadata": {},
     "output_type": "execute_result"
    }
   ],
   "source": [
    "# Source: OECD Data sets\n",
    "# Avalible: https://data.oecd.org/earnwage/average-wages.htm\n",
    "wage_df = pd.read_csv(\"datasets/AverageWages_OECD_2000_2020.csv\", usecols=['LOCATION', 'TIME', 'Value'])\n",
    "wage_df.Value = wage_df.Value.div(1000)\n",
    "wage_df.columns = ['Location', 'Year', 'Average_Wage']\n",
    "wage_df.drop(wage_df.loc[wage_df['Year'] < 2000].index, inplace = True)\n",
    "wage_df.head()"
   ]
  },
  {
   "cell_type": "code",
   "execution_count": 188,
   "metadata": {},
   "outputs": [
    {
     "data": {
      "text/html": [
       "<div>\n",
       "<style scoped>\n",
       "    .dataframe tbody tr th:only-of-type {\n",
       "        vertical-align: middle;\n",
       "    }\n",
       "\n",
       "    .dataframe tbody tr th {\n",
       "        vertical-align: top;\n",
       "    }\n",
       "\n",
       "    .dataframe thead th {\n",
       "        text-align: right;\n",
       "    }\n",
       "</style>\n",
       "<table border=\"1\" class=\"dataframe\">\n",
       "  <thead>\n",
       "    <tr style=\"text-align: right;\">\n",
       "      <th></th>\n",
       "      <th>Location</th>\n",
       "      <th>Year</th>\n",
       "      <th>Average_Wage</th>\n",
       "    </tr>\n",
       "  </thead>\n",
       "  <tbody>\n",
       "    <tr>\n",
       "      <th>10</th>\n",
       "      <td>AUS</td>\n",
       "      <td>2000</td>\n",
       "      <td>46.156005</td>\n",
       "    </tr>\n",
       "    <tr>\n",
       "      <th>11</th>\n",
       "      <td>AUS</td>\n",
       "      <td>2001</td>\n",
       "      <td>46.658380</td>\n",
       "    </tr>\n",
       "    <tr>\n",
       "      <th>12</th>\n",
       "      <td>AUS</td>\n",
       "      <td>2002</td>\n",
       "      <td>46.979506</td>\n",
       "    </tr>\n",
       "    <tr>\n",
       "      <th>13</th>\n",
       "      <td>AUS</td>\n",
       "      <td>2003</td>\n",
       "      <td>47.529089</td>\n",
       "    </tr>\n",
       "    <tr>\n",
       "      <th>14</th>\n",
       "      <td>AUS</td>\n",
       "      <td>2004</td>\n",
       "      <td>49.007977</td>\n",
       "    </tr>\n",
       "  </tbody>\n",
       "</table>\n",
       "</div>"
      ],
      "text/plain": [
       "   Location  Year  Average_Wage\n",
       "10      AUS  2000     46.156005\n",
       "11      AUS  2001     46.658380\n",
       "12      AUS  2002     46.979506\n",
       "13      AUS  2003     47.529089\n",
       "14      AUS  2004     49.007977"
      ]
     },
     "execution_count": 188,
     "metadata": {},
     "output_type": "execute_result"
    }
   ],
   "source": [
    "# Creating a dictionary containing Country and their associated data by year\n",
    "# This makes plotting multiple graphs with a function easier\n",
    "wage_country_dict = {}\n",
    "for country in countries_list:\n",
    "    wage_country_dict[\"{0}_data\".format(country)] = wage_df[wage_df['Location'] == country]\n",
    "# As an example, to Swedens GDP information\n",
    "wage_country_dict['AUS_data'].head()    # Column can be accessed as country_dictionary['SWE_data'].TIME"
   ]
  },
  {
   "cell_type": "code",
   "execution_count": 196,
   "metadata": {},
   "outputs": [
    {
     "data": {
      "text/plain": [
       "<AxesSubplot:xlabel='Year'>"
      ]
     },
     "execution_count": 196,
     "metadata": {},
     "output_type": "execute_result"
    },
    {
     "data": {
      "image/png": "[encoded data removed]",
      "text/plain": [
       "<Figure size 432x288 with 1 Axes>"
      ]
     },
     "metadata": {
      "needs_background": "light"
     },
     "output_type": "display_data"
    },
    {
     "data": {
      "image/png": "[encoded data removed]",
      "text/plain": [
       "<Figure size 432x288 with 1 Axes>"
      ]
     },
     "metadata": {
      "needs_background": "light"
     },
     "output_type": "display_data"
    }
   ],
   "source": [
    "gdp_country_dict['USA_data'].plot(x='Year', y='GDP', xlabel='Year', ylabel='GDP Per Capita - Thousands', label='GDP')\n",
    "wage_country_dict['USA_data'].plot(x='Year', y='Average_Wage', label='Average Wage')"
   ]
  },
  {
   "cell_type": "code",
   "execution_count": null,
   "metadata": {},
   "outputs": [],
   "source": []
  }
 ],
 "metadata": {
  "kernelspec": {
   "display_name": "Python 3",
   "language": "python",
   "name": "python3"
  },
  "language_info": {
   "codemirror_mode": {
    "name": "ipython",
    "version": 3
   },
   "file_extension": ".py",
   "mimetype": "text/x-python",
   "name": "python",
   "nbconvert_exporter": "python",
   "pygments_lexer": "ipython3",
   "version": "3.8.5"
  }
 },
 "nbformat": 4,
 "nbformat_minor": 4
}
